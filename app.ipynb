{
 "cells": [
  {
   "cell_type": "code",
   "execution_count": 21,
   "metadata": {},
   "outputs": [
    {
     "name": "stdout",
     "output_type": "stream",
     "text": [
      " * Serving Flask app '__main__'\n",
      " * Debug mode: off\n"
     ]
    },
    {
     "name": "stderr",
     "output_type": "stream",
     "text": [
      "WARNING: This is a development server. Do not use it in a production deployment. Use a production WSGI server instead.\n",
      " * Running on http://127.0.0.1:5000\n",
      "Press CTRL+C to quit\n"
     ]
    },
    {
     "name": "stdout",
     "output_type": "stream",
     "text": [
      "Corrected Arabic Job Title: بات طعام في المطبخ\n"
     ]
    },
    {
     "name": "stderr",
     "output_type": "stream",
     "text": [
      "127.0.0.1 - - [03/Jul/2024 15:51:34] \"POST /predict HTTP/1.1\" 200 -\n"
     ]
    },
    {
     "name": "stdout",
     "output_type": "stream",
     "text": [
      "Processed Job Title: food in the kitchen\n",
      "Corrected Arabic Job Title: طعام\n"
     ]
    },
    {
     "name": "stderr",
     "output_type": "stream",
     "text": [
      "127.0.0.1 - - [03/Jul/2024 15:51:53] \"POST /predict HTTP/1.1\" 200 -\n"
     ]
    },
    {
     "name": "stdout",
     "output_type": "stream",
     "text": [
      "Processed Job Title: food\n",
      "Corrected Arabic Job Title: مطعم\n"
     ]
    },
    {
     "name": "stderr",
     "output_type": "stream",
     "text": [
      "127.0.0.1 - - [03/Jul/2024 15:52:07] \"POST /predict HTTP/1.1\" 200 -\n"
     ]
    },
    {
     "name": "stdout",
     "output_type": "stream",
     "text": [
      "Processed Job Title: restaur\n",
      "Corrected Arabic Job Title: تصليح\n"
     ]
    },
    {
     "name": "stderr",
     "output_type": "stream",
     "text": [
      "127.0.0.1 - - [03/Jul/2024 15:52:33] \"POST /predict HTTP/1.1\" 200 -\n"
     ]
    },
    {
     "name": "stdout",
     "output_type": "stream",
     "text": [
      "Processed Job Title: to repair\n",
      "Corrected Arabic Job Title: تصوير\n"
     ]
    },
    {
     "name": "stderr",
     "output_type": "stream",
     "text": [
      "127.0.0.1 - - [03/Jul/2024 15:52:49] \"POST /predict HTTP/1.1\" 200 -\n"
     ]
    },
    {
     "name": "stdout",
     "output_type": "stream",
     "text": [
      "Processed Job Title: film\n",
      "Corrected Arabic Job Title: تصوير\n"
     ]
    },
    {
     "name": "stderr",
     "output_type": "stream",
     "text": [
      "127.0.0.1 - - [03/Jul/2024 15:52:59] \"POST /predict HTTP/1.1\" 200 -\n"
     ]
    },
    {
     "name": "stdout",
     "output_type": "stream",
     "text": [
      "Processed Job Title: film\n",
      "Corrected Arabic Job Title: تصوير أجهزة كهربائية\n"
     ]
    },
    {
     "name": "stderr",
     "output_type": "stream",
     "text": [
      "127.0.0.1 - - [03/Jul/2024 15:54:26] \"POST /predict HTTP/1.1\" 200 -\n"
     ]
    },
    {
     "name": "stdout",
     "output_type": "stream",
     "text": [
      "Processed Job Title: photographi of electr applianc\n",
      "Corrected Arabic Job Title: الا أجهزة كهربائية\n"
     ]
    },
    {
     "name": "stderr",
     "output_type": "stream",
     "text": [
      "127.0.0.1 - - [03/Jul/2024 15:55:10] \"POST /predict HTTP/1.1\" 200 -\n"
     ]
    },
    {
     "name": "stdout",
     "output_type": "stream",
     "text": [
      "Processed Job Title: onli electr applianc\n",
      "Corrected Arabic Job Title: الا أجهزة كهربائية\n"
     ]
    },
    {
     "name": "stderr",
     "output_type": "stream",
     "text": [
      "127.0.0.1 - - [03/Jul/2024 15:55:32] \"POST /predict HTTP/1.1\" 200 -\n"
     ]
    },
    {
     "name": "stdout",
     "output_type": "stream",
     "text": [
      "Processed Job Title: onli electr applianc\n"
     ]
    }
   ],
   "source": [
    "from flask import Flask, request, jsonify\n",
    "from googletrans import Translator\n",
    "import joblib\n",
    "from nltk.stem import PorterStemmer\n",
    "from spellchecker import SpellChecker\n",
    "from ar_corrector.corrector import Corrector\n",
    "\n",
    "app = Flask(__name__)\n",
    "\n",
    "# Load the trained model and vectorizer\n",
    "model = joblib.load('model.pkl')\n",
    "vectorizer = joblib.load('vectorizer.pkl')\n",
    "\n",
    "# Initialize Google Translate, SpellChecker, and Aspell\n",
    "translator = Translator()\n",
    "spell_checker = SpellChecker()\n",
    "corr = Corrector()\n",
    "\n",
    "@app.route('/predict', methods=['POST'])\n",
    "def predict():\n",
    "    # Get job title from request body\n",
    "    request_data = request.get_json()\n",
    "    job_title = request_data['jobtitle']\n",
    "\n",
    "    # Check if the job title is in Arabic\n",
    "    if is_arabic(job_title):\n",
    "        # Correct spelling in Arabic\n",
    "        job_title_corrected = corr.contextual_correct(job_title)\n",
    "        print(f\"Corrected Arabic Job Title: {job_title_corrected}\")\n",
    "        # Translate Arabic to English\n",
    "        translation = translator.translate(job_title_corrected, src='ar', dest='en')\n",
    "        job_title_en = translation.text\n",
    "    else:\n",
    "        # Correct spelling in English\n",
    "        job_title_corrected = correct_spelling(job_title)\n",
    "        print(f\"Corrected Job Title: {job_title_corrected}\")\n",
    "        job_title_en = job_title_corrected\n",
    "    \n",
    "    # Preprocess job title\n",
    "    job_title_processed = preprocess_text(job_title_en)\n",
    "    print(f\"Processed Job Title: {job_title_processed}\")\n",
    "    \n",
    "    # Predict subcategory\n",
    "    job_title_vect = vectorizer.transform([job_title_processed])\n",
    "    prediction = model.predict(job_title_vect)[0]\n",
    "\n",
    "    response = {'subcategory': prediction}\n",
    "    return jsonify(response)\n",
    "\n",
    "def correct_spelling(text):\n",
    "    corrected_words = [spell_checker.correction(word) for word in text.split()]\n",
    "    return ' '.join(corrected_words)\n",
    "\n",
    "\n",
    "def preprocess_text(text):\n",
    "    # Stemming using NLTK Porter Stemmer\n",
    "    stemmer = PorterStemmer()\n",
    "    return ' '.join([stemmer.stem(word) for word in text.split()])\n",
    "\n",
    "def is_arabic(text):\n",
    "    # Simple check for Arabic characters in the text\n",
    "    arabic_range = any(0x0600 <= ord(char) <= 0x06FF or \n",
    "                       0x0750 <= ord(char) <= 0x077F or \n",
    "                       0xFB50 <= ord(char) <= 0xFDFF or\n",
    "                       0xFE70 <= ord(char) <= 0xFEFF or\n",
    "                       0x1EE00 <= ord(char) <= 0x1EEFF for char in text)\n",
    "    return arabic_range\n",
    "\n",
    "if __name__ == '__main__':\n",
    "    app.run(port=5000)\n"
   ]
  },
  {
   "cell_type": "code",
   "execution_count": 26,
   "metadata": {},
   "outputs": [
    {
     "name": "stdout",
     "output_type": "stream",
     "text": [
      " * Serving Flask app '__main__'\n",
      " * Debug mode: off\n"
     ]
    },
    {
     "name": "stderr",
     "output_type": "stream",
     "text": [
      "WARNING: This is a development server. Do not use it in a production deployment. Use a production WSGI server instead.\n",
      " * Running on http://127.0.0.1:5000\n",
      "Press CTRL+C to quit\n",
      "127.0.0.1 - - [03/Jul/2024 16:50:12] \"POST /predict HTTP/1.1\" 200 -\n"
     ]
    },
    {
     "name": "stdout",
     "output_type": "stream",
     "text": [
      "Corrected Job Title: cleansing\n",
      "Processed Job Title: cleans\n"
     ]
    },
    {
     "name": "stderr",
     "output_type": "stream",
     "text": [
      "127.0.0.1 - - [03/Jul/2024 16:50:26] \"POST /predict HTTP/1.1\" 200 -\n"
     ]
    },
    {
     "name": "stdout",
     "output_type": "stream",
     "text": [
      "Corrected Job Title: cleanser\n",
      "Processed Job Title: cleanser\n"
     ]
    }
   ],
   "source": [
    "from flask import Flask, request, jsonify\n",
    "from googletrans import Translator\n",
    "import joblib\n",
    "from nltk.stem import PorterStemmer\n",
    "from ar_corrector.corrector import Corrector\n",
    "from pyarabic.araby import strip_tashkeel, normalize_hamza\n",
    "import enchant\n",
    "\n",
    "app = Flask(__name__)\n",
    "\n",
    "# Load the trained model and vectorizer\n",
    "model = joblib.load('model.pkl')\n",
    "vectorizer = joblib.load('vectorizer.pkl')\n",
    "\n",
    "# Initialize Google Translate, Enchant SpellChecker, and Corrector\n",
    "translator = Translator()\n",
    "spell_checker_en = enchant.Dict(\"en_US\")  # English spell checker\n",
    "corr = Corrector()  # Arabic corrector\n",
    "\n",
    "@app.route('/predict', methods=['POST'])\n",
    "def predict():\n",
    "    # Get job title from request body\n",
    "    request_data = request.get_json()\n",
    "    job_title = request_data['jobtitle']\n",
    "\n",
    "    # Check if the job title is in Arabic\n",
    "    if is_arabic(job_title):\n",
    "        # Correct spelling and normalization in Arabic\n",
    "        job_title_normalized = normalize_arabic_text(job_title)\n",
    "        job_title_corrected = corr.contextual_correct(job_title_normalized)\n",
    "        print(f\"Corrected Arabic Job Title: {job_title_corrected}\")\n",
    "        \n",
    "        # Translate Arabic to English\n",
    "        translation = translator.translate(job_title_corrected, src='ar', dest='en')\n",
    "        job_title_en = translation.text\n",
    "    else:\n",
    "        # Correct spelling in English\n",
    "        job_title_corrected = correct_spelling_en(job_title)\n",
    "        print(f\"Corrected Job Title: {job_title_corrected}\")\n",
    "        job_title_en = job_title_corrected\n",
    "    \n",
    "    # Preprocess job title\n",
    "    job_title_processed = preprocess_text(job_title_en)\n",
    "    print(f\"Processed Job Title: {job_title_processed}\")\n",
    "    \n",
    "    # Predict subcategory\n",
    "    job_title_vect = vectorizer.transform([job_title_processed])\n",
    "    prediction = model.predict(job_title_vect)[0]\n",
    "\n",
    "    response = {'subcategory': prediction}\n",
    "    return jsonify(response)\n",
    "\n",
    "def correct_spelling_en(text):\n",
    "    corrected_words = []\n",
    "    for word in text.split():\n",
    "        if not spell_checker_en.check(word):\n",
    "            suggestions = spell_checker_en.suggest(word)\n",
    "            if suggestions:\n",
    "                corrected_words.append(suggestions[0])\n",
    "            else:\n",
    "                corrected_words.append(word)\n",
    "        else:\n",
    "            corrected_words.append(word)\n",
    "    return ' '.join(corrected_words)\n",
    "\n",
    "def normalize_arabic_text(text):\n",
    "    normalized_text = normalize_hamza(strip_tashkeel(text))\n",
    "    return normalized_text\n",
    "\n",
    "def preprocess_text(text):\n",
    "    # Stemming using NLTK Porter Stemmer\n",
    "    stemmer = PorterStemmer()\n",
    "    return ' '.join([stemmer.stem(word) for word in text.split()])\n",
    "\n",
    "def is_arabic(text):\n",
    "    # Simple check for Arabic characters in the text\n",
    "    arabic_range = any(0x0600 <= ord(char) <= 0x06FF or \n",
    "                       0x0750 <= ord(char) <= 0x077F or \n",
    "                       0xFB50 <= ord(char) <= 0xFDFF or\n",
    "                       0xFE70 <= ord(char) <= 0xFEFF or\n",
    "                       0x1EE00 <= ord(char) <= 0x1EEFF for char in text)\n",
    "    return arabic_range\n",
    "\n",
    "if __name__ == '__main__':\n",
    "    app.run(port=5000)\n"
   ]
  }
 ],
 "metadata": {
  "kernelspec": {
   "display_name": "Python 3",
   "language": "python",
   "name": "python3"
  },
  "language_info": {
   "codemirror_mode": {
    "name": "ipython",
    "version": 3
   },
   "file_extension": ".py",
   "mimetype": "text/x-python",
   "name": "python",
   "nbconvert_exporter": "python",
   "pygments_lexer": "ipython3",
   "version": "3.9.0"
  }
 },
 "nbformat": 4,
 "nbformat_minor": 2
}
