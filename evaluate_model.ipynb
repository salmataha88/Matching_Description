{
 "cells": [
  {
   "cell_type": "code",
   "execution_count": 6,
   "metadata": {},
   "outputs": [
    {
     "name": "stdout",
     "output_type": "stream",
     "text": [
      "Accuracy: 0.7384615384615385\n",
      "Classification Report:\n",
      "                                      precision    recall  f1-score   support\n",
      "\n",
      "                    appliance repair       0.57      0.80      0.67         5\n",
      "                          child care       1.00      0.60      0.75         5\n",
      "                            cleaning       0.39      0.88      0.54         8\n",
      "                             cooking       1.00      1.00      1.00         3\n",
      "                        elderly care       1.00      1.00      1.00         2\n",
      "                          electrical       0.75      0.75      0.75         4\n",
      "                                hvac       0.67      0.80      0.73         5\n",
      "                               other       0.00      0.00      0.00         2\n",
      "            personal care assistance       1.00      1.00      1.00         7\n",
      "                         pet sitting       1.00      0.86      0.92         7\n",
      "                            plumbing       1.00      0.33      0.50         6\n",
      "        sign language interpretation       1.00      0.50      0.67         6\n",
      "wheelchair-accessible transportation       1.00      0.80      0.89         5\n",
      "\n",
      "                            accuracy                           0.74        65\n",
      "                           macro avg       0.80      0.72      0.72        65\n",
      "                        weighted avg       0.82      0.74      0.74        65\n",
      "\n"
     ]
    }
   ],
   "source": [
    "import joblib\n",
    "from sklearn.metrics import accuracy_score, classification_report\n",
    "\n",
    "def evaluate_model(model_file, vectorizer_file, test_data_file):\n",
    "    model = joblib.load(model_file)\n",
    "    vectorizer = joblib.load(vectorizer_file)\n",
    "    test_data = joblib.load(test_data_file)\n",
    "\n",
    "    X_test = test_data['X_test']\n",
    "    y_test = test_data['y_test']\n",
    "    X_test_vect = vectorizer.transform(X_test)\n",
    "\n",
    "    y_pred = model.predict(X_test_vect)\n",
    "\n",
    "    accuracy = accuracy_score(y_test, y_pred)\n",
    "    report = classification_report(y_test, y_pred, zero_division=0)\n",
    "\n",
    "    print(f\"Accuracy: {accuracy}\")\n",
    "    print(\"Classification Report:\")\n",
    "    print(report)\n",
    "\n",
    "if __name__ == \"__main__\":\n",
    "    evaluate_model('model.pkl', 'vectorizer.pkl', 'test_data.pkl')\n"
   ]
  }
 ],
 "metadata": {
  "kernelspec": {
   "display_name": "Python 3",
   "language": "python",
   "name": "python3"
  },
  "language_info": {
   "codemirror_mode": {
    "name": "ipython",
    "version": 3
   },
   "file_extension": ".py",
   "mimetype": "text/x-python",
   "name": "python",
   "nbconvert_exporter": "python",
   "pygments_lexer": "ipython3",
   "version": "3.9.0"
  }
 },
 "nbformat": 4,
 "nbformat_minor": 2
}
