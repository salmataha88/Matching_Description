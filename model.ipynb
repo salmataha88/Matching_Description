{
 "cells": [
  {
   "cell_type": "code",
   "execution_count": 8,
   "metadata": {},
   "outputs": [],
   "source": [
    "import pandas as pd\n",
    "from sklearn.feature_extraction.text import TfidfVectorizer\n",
    "from sklearn.naive_bayes import MultinomialNB\n",
    "from sklearn.model_selection import train_test_split\n",
    "from nltk.stem import PorterStemmer\n",
    "import joblib\n",
    "\n",
    "def load_data(file):\n",
    "    df = pd.read_csv(file)\n",
    "    df.columns = df.columns.str.strip()\n",
    "    df['subcategory'] = df['subcategory'].str.strip()\n",
    "    df['jobtitle'] = df['jobtitle'].str.strip()\n",
    "    return df\n",
    "\n",
    "def preprocess_text(text):\n",
    "    # Stemming using NLTK Porter Stemmer\n",
    "    stemmer = PorterStemmer()\n",
    "    return ' '.join([stemmer.stem(word) for word in text.split()])\n",
    "\n",
    "def train_and_save_model(data_file, model_file, vectorizer_file, test_data_file):\n",
    "    df = load_data(data_file)\n",
    "    df['jobtitle_processed'] = df['jobtitle'].apply(preprocess_text)\n",
    "\n",
    "    X = df['jobtitle_processed']\n",
    "    y = df['subcategory']\n",
    "    X_train, X_test, y_train, y_test = train_test_split(X, y, test_size=0.25, random_state=42)\n",
    "\n",
    "    vectorizer = TfidfVectorizer()\n",
    "    X_train_vect = vectorizer.fit_transform(X_train)\n",
    "\n",
    "    clf = MultinomialNB()\n",
    "    clf.fit(X_train_vect, y_train)\n",
    "\n",
    "    joblib.dump(clf, model_file)\n",
    "    joblib.dump(vectorizer, vectorizer_file)\n",
    "\n",
    "    test_data = {'X_test': X_test, 'y_test': y_test}\n",
    "    joblib.dump(test_data, test_data_file)\n",
    "\n",
    "if __name__ == \"__main__\":\n",
    "    train_and_save_model('data.csv', 'model.pkl', 'vectorizer.pkl', 'test_data.pkl')\n"
   ]
  }
 ],
 "metadata": {
  "kernelspec": {
   "display_name": "Python 3",
   "language": "python",
   "name": "python3"
  },
  "language_info": {
   "codemirror_mode": {
    "name": "ipython",
    "version": 3
   },
   "file_extension": ".py",
   "mimetype": "text/x-python",
   "name": "python",
   "nbconvert_exporter": "python",
   "pygments_lexer": "ipython3",
   "version": "3.9.0"
  }
 },
 "nbformat": 4,
 "nbformat_minor": 2
}
